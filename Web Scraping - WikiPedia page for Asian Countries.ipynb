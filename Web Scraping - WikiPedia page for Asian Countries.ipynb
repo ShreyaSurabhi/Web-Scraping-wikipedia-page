{
 "cells": [
  {
   "cell_type": "markdown",
   "metadata": {},
   "source": [
    "# WEB SCRAPING  \n",
    "\n"
   ]
  },
  {
   "cell_type": "markdown",
   "metadata": {},
   "source": [
    "## List of Asian countries by area from Wikipedia  \n",
    "\n",
    "`*Link: https://en.wikipedia.org/wiki/List_of_Asian_countries_by_area*`\n",
    "\n"
   ]
  },
  {
   "cell_type": "markdown",
   "metadata": {},
   "source": [
    "#### **AIM:** Put the list of names into a DataFrame"
   ]
  },
  {
   "cell_type": "code",
   "execution_count": 1,
   "metadata": {},
   "outputs": [],
   "source": [
    "#importing library to query a website\n",
    "import requests\n",
    "wiki_link = \"https://en.wikipedia.org/wiki/List_of_Asian_countries_by_area\"\n",
    "link = requests.get(wiki_link).text"
   ]
  },
  {
   "cell_type": "code",
   "execution_count": 2,
   "metadata": {},
   "outputs": [],
   "source": [
    "# print(link)"
   ]
  },
  {
   "cell_type": "code",
   "execution_count": 3,
   "metadata": {},
   "outputs": [],
   "source": [
    "from bs4 import BeautifulSoup\n",
    "soup = BeautifulSoup(link, 'lxml')\n",
    "# print(soup)"
   ]
  },
  {
   "cell_type": "code",
   "execution_count": 4,
   "metadata": {},
   "outputs": [],
   "source": [
    "# to organize it\n",
    "#print(soup.prettify())"
   ]
  },
  {
   "cell_type": "code",
   "execution_count": 5,
   "metadata": {},
   "outputs": [
    {
     "data": {
      "text/plain": [
       "<title>List of Asian countries by area - Wikipedia</title>"
      ]
     },
     "execution_count": 5,
     "metadata": {},
     "output_type": "execute_result"
    }
   ],
   "source": [
    "# Extracting the title\n",
    "soup.title"
   ]
  },
  {
   "cell_type": "code",
   "execution_count": 6,
   "metadata": {},
   "outputs": [
    {
     "data": {
      "text/plain": [
       "'List of Asian countries by area - Wikipedia'"
      ]
     },
     "execution_count": 6,
     "metadata": {},
     "output_type": "execute_result"
    }
   ],
   "source": [
    "# Extracting the title (only string)\n",
    "soup.title.string"
   ]
  },
  {
   "cell_type": "code",
   "execution_count": 7,
   "metadata": {},
   "outputs": [
    {
     "data": {
      "text/plain": [
       "<a id=\"top\"></a>"
      ]
     },
     "execution_count": 7,
     "metadata": {},
     "output_type": "execute_result"
    }
   ],
   "source": [
    "# Extracting the achor tags\n",
    "soup.a"
   ]
  },
  {
   "cell_type": "code",
   "execution_count": 8,
   "metadata": {},
   "outputs": [],
   "source": [
    "# Extracting all anchor tags\n",
    "#soup.find_all('a')"
   ]
  },
  {
   "cell_type": "code",
   "execution_count": 9,
   "metadata": {},
   "outputs": [],
   "source": [
    "# Extracting all anchor tags (with 'href' value)\n",
    "all_link = soup.find_all('a')\n",
    "#for link in all_link:\n",
    "#    print(link.get(\"href\"))"
   ]
  },
  {
   "cell_type": "code",
   "execution_count": 10,
   "metadata": {},
   "outputs": [],
   "source": [
    "# Extracting info from table tags\n",
    "all_tables = soup.find_all('table')\n",
    "#print(all_tables)"
   ]
  },
  {
   "cell_type": "code",
   "execution_count": 11,
   "metadata": {},
   "outputs": [],
   "source": [
    "# Extracting info from correct table\n",
    "right_table = soup.find('table',class_='wikitable sortable')\n",
    "#print(right_table)"
   ]
  },
  {
   "cell_type": "code",
   "execution_count": 12,
   "metadata": {},
   "outputs": [
    {
     "data": {
      "text/plain": [
       "[<a href=\"/wiki/Russia\" title=\"Russia\">Russia</a>,\n",
       " <a href=\"/wiki/European_Russia\" title=\"European Russia\">European Russia</a>,\n",
       " <a href=\"#cite_note-russiaTotalAreaByCIA-1\">[1]</a>,\n",
       " <a href=\"/wiki/China\" title=\"China\">China</a>,\n",
       " <a href=\"/wiki/Hong_Kong\" title=\"Hong Kong\">Hong Kong</a>,\n",
       " <a href=\"/wiki/Macau\" title=\"Macau\">Macau</a>,\n",
       " <a href=\"/wiki/India\" title=\"India\">India</a>,\n",
       " <a href=\"/wiki/Kazakhstan\" title=\"Kazakhstan\">Kazakhstan</a>,\n",
       " <a href=\"/wiki/Saudi_Arabia\" title=\"Saudi Arabia\">Saudi Arabia</a>,\n",
       " <a href=\"/wiki/Iran\" title=\"Iran\">Iran</a>,\n",
       " <a href=\"/wiki/Mongolia\" title=\"Mongolia\">Mongolia</a>,\n",
       " <a href=\"/wiki/Indonesia\" title=\"Indonesia\">Indonesia</a>,\n",
       " <a href=\"/wiki/Pakistan\" title=\"Pakistan\">Pakistan</a>,\n",
       " <a href=\"/wiki/Turkey\" title=\"Turkey\">Turkey</a>,\n",
       " <a href=\"/wiki/Myanmar\" title=\"Myanmar\">Myanmar</a>,\n",
       " <a href=\"/wiki/Afghanistan\" title=\"Afghanistan\">Afghanistan</a>,\n",
       " <a href=\"/wiki/Yemen\" title=\"Yemen\">Yemen</a>,\n",
       " <a href=\"/wiki/Thailand\" title=\"Thailand\">Thailand</a>,\n",
       " <a href=\"/wiki/Turkmenistan\" title=\"Turkmenistan\">Turkmenistan</a>,\n",
       " <a href=\"/wiki/Uzbekistan\" title=\"Uzbekistan\">Uzbekistan</a>,\n",
       " <a href=\"/wiki/Iraq\" title=\"Iraq\">Iraq</a>,\n",
       " <a href=\"/wiki/Japan\" title=\"Japan\">Japan</a>,\n",
       " <a href=\"/wiki/Vietnam\" title=\"Vietnam\">Vietnam</a>,\n",
       " <a href=\"/wiki/Malaysia\" title=\"Malaysia\">Malaysia</a>,\n",
       " <a href=\"/wiki/Oman\" title=\"Oman\">Oman</a>,\n",
       " <a href=\"/wiki/Philippines\" title=\"Philippines\">Philippines</a>,\n",
       " <a href=\"/wiki/Laos\" title=\"Laos\">Laos</a>,\n",
       " <a href=\"/wiki/Kyrgyzstan\" title=\"Kyrgyzstan\">Kyrgyzstan</a>,\n",
       " <a href=\"/wiki/Syria\" title=\"Syria\">Syria</a>,\n",
       " <a href=\"/wiki/Golan_Heights\" title=\"Golan Heights\">Golan Heights</a>,\n",
       " <a href=\"/wiki/Cambodia\" title=\"Cambodia\">Cambodia</a>,\n",
       " <a href=\"/wiki/Bangladesh\" title=\"Bangladesh\">Bangladesh</a>,\n",
       " <a href=\"/wiki/Nepal\" title=\"Nepal\">Nepal</a>,\n",
       " <a href=\"/wiki/Tajikistan\" title=\"Tajikistan\">Tajikistan</a>,\n",
       " <a href=\"/wiki/North_Korea\" title=\"North Korea\">North Korea</a>,\n",
       " <a href=\"/wiki/South_Korea\" title=\"South Korea\">South Korea</a>,\n",
       " <a href=\"/wiki/Jordan\" title=\"Jordan\">Jordan</a>,\n",
       " <a href=\"/wiki/Azerbaijan\" title=\"Azerbaijan\">Azerbaijan</a>,\n",
       " <a href=\"/wiki/Caucasus\" title=\"Caucasus\">Caucasus</a>,\n",
       " <a href=\"/wiki/Europe\" title=\"Europe\">Europe</a>,\n",
       " <a href=\"/wiki/Asia\" title=\"Asia\">Asia</a>,\n",
       " <a href=\"/wiki/United_Arab_Emirates\" title=\"United Arab Emirates\">United Arab Emirates</a>,\n",
       " <a href=\"/wiki/Georgia_(country)\" title=\"Georgia (country)\">Georgia</a>,\n",
       " <a href=\"/wiki/Caucasus\" title=\"Caucasus\">Caucasus</a>,\n",
       " <a href=\"/wiki/Europe\" title=\"Europe\">Europe</a>,\n",
       " <a href=\"/wiki/Asia\" title=\"Asia\">Asia</a>,\n",
       " <a href=\"/wiki/Sri_Lanka\" title=\"Sri Lanka\">Sri Lanka</a>,\n",
       " <a href=\"/wiki/Bhutan\" title=\"Bhutan\">Bhutan</a>,\n",
       " <a href=\"/wiki/Taiwan\" title=\"Taiwan\">Taiwan</a>,\n",
       " <a href=\"/wiki/Armenia\" title=\"Armenia\">Armenia</a>,\n",
       " <a href=\"/wiki/Caucasus\" title=\"Caucasus\">Caucasus</a>,\n",
       " <a href=\"/wiki/Europe\" title=\"Europe\">Europe</a>,\n",
       " <a href=\"/wiki/Asia\" title=\"Asia\">Asia</a>,\n",
       " <a href=\"/wiki/Israel\" title=\"Israel\">Israel</a>,\n",
       " <a href=\"/wiki/Kuwait\" title=\"Kuwait\">Kuwait</a>,\n",
       " <a href=\"/wiki/East_Timor\" title=\"East Timor\">Timor-Leste</a>,\n",
       " <a href=\"/wiki/Qatar\" title=\"Qatar\">Qatar</a>,\n",
       " <a href=\"/wiki/Lebanon\" title=\"Lebanon\">Lebanon</a>,\n",
       " <a href=\"/wiki/Cyprus\" title=\"Cyprus\">Cyprus</a>,\n",
       " <a href=\"/wiki/Northern_Cyprus\" title=\"Northern Cyprus\">Northern Cyprus</a>,\n",
       " <a href=\"/wiki/Brunei\" title=\"Brunei\">Brunei</a>,\n",
       " <a href=\"/wiki/Bahrain\" title=\"Bahrain\">Bahrain</a>,\n",
       " <a href=\"/wiki/Singapore\" title=\"Singapore\">Singapore</a>,\n",
       " <a href=\"/wiki/Maldives\" title=\"Maldives\">Maldives</a>,\n",
       " <a href=\"/wiki/State_of_Palestine\" title=\"State of Palestine\">Palestine</a>,\n",
       " <a href=\"/wiki/United_Nations\" title=\"United Nations\">UN</a>]"
      ]
     },
     "execution_count": 12,
     "metadata": {},
     "output_type": "execute_result"
    }
   ],
   "source": [
    "# Links of all countries\n",
    "table_links = right_table.find_all('a')\n",
    "table_links"
   ]
  },
  {
   "cell_type": "code",
   "execution_count": 13,
   "metadata": {},
   "outputs": [
    {
     "data": {
      "text/plain": [
       "['Russia',\n",
       " 'European Russia',\n",
       " None,\n",
       " 'China',\n",
       " 'Hong Kong',\n",
       " 'Macau',\n",
       " 'India',\n",
       " 'Kazakhstan',\n",
       " 'Saudi Arabia',\n",
       " 'Iran',\n",
       " 'Mongolia',\n",
       " 'Indonesia',\n",
       " 'Pakistan',\n",
       " 'Turkey',\n",
       " 'Myanmar',\n",
       " 'Afghanistan',\n",
       " 'Yemen',\n",
       " 'Thailand',\n",
       " 'Turkmenistan',\n",
       " 'Uzbekistan',\n",
       " 'Iraq',\n",
       " 'Japan',\n",
       " 'Vietnam',\n",
       " 'Malaysia',\n",
       " 'Oman',\n",
       " 'Philippines',\n",
       " 'Laos',\n",
       " 'Kyrgyzstan',\n",
       " 'Syria',\n",
       " 'Golan Heights',\n",
       " 'Cambodia',\n",
       " 'Bangladesh',\n",
       " 'Nepal',\n",
       " 'Tajikistan',\n",
       " 'North Korea',\n",
       " 'South Korea',\n",
       " 'Jordan',\n",
       " 'Azerbaijan',\n",
       " 'Caucasus',\n",
       " 'Europe',\n",
       " 'Asia',\n",
       " 'United Arab Emirates',\n",
       " 'Georgia (country)',\n",
       " 'Caucasus',\n",
       " 'Europe',\n",
       " 'Asia',\n",
       " 'Sri Lanka',\n",
       " 'Bhutan',\n",
       " 'Taiwan',\n",
       " 'Armenia',\n",
       " 'Caucasus',\n",
       " 'Europe',\n",
       " 'Asia',\n",
       " 'Israel',\n",
       " 'Kuwait',\n",
       " 'East Timor',\n",
       " 'Qatar',\n",
       " 'Lebanon',\n",
       " 'Cyprus',\n",
       " 'Northern Cyprus',\n",
       " 'Brunei',\n",
       " 'Bahrain',\n",
       " 'Singapore',\n",
       " 'Maldives',\n",
       " 'State of Palestine',\n",
       " 'United Nations']"
      ]
     },
     "execution_count": 13,
     "metadata": {},
     "output_type": "execute_result"
    }
   ],
   "source": [
    "# define a list - for title\n",
    "country = []\n",
    "\n",
    "# List of countries\n",
    "for links in table_links:\n",
    "    country.append(links.get(\"title\"))\n",
    "country"
   ]
  },
  {
   "cell_type": "code",
   "execution_count": 14,
   "metadata": {},
   "outputs": [
    {
     "data": {
      "text/html": [
       "<div>\n",
       "<style scoped>\n",
       "    .dataframe tbody tr th:only-of-type {\n",
       "        vertical-align: middle;\n",
       "    }\n",
       "\n",
       "    .dataframe tbody tr th {\n",
       "        vertical-align: top;\n",
       "    }\n",
       "\n",
       "    .dataframe thead th {\n",
       "        text-align: right;\n",
       "    }\n",
       "</style>\n",
       "<table border=\"1\" class=\"dataframe\">\n",
       "  <thead>\n",
       "    <tr style=\"text-align: right;\">\n",
       "      <th></th>\n",
       "      <th>Country</th>\n",
       "    </tr>\n",
       "  </thead>\n",
       "  <tbody>\n",
       "    <tr>\n",
       "      <td>0</td>\n",
       "      <td>Russia</td>\n",
       "    </tr>\n",
       "    <tr>\n",
       "      <td>1</td>\n",
       "      <td>European Russia</td>\n",
       "    </tr>\n",
       "    <tr>\n",
       "      <td>2</td>\n",
       "      <td>None</td>\n",
       "    </tr>\n",
       "    <tr>\n",
       "      <td>3</td>\n",
       "      <td>China</td>\n",
       "    </tr>\n",
       "    <tr>\n",
       "      <td>4</td>\n",
       "      <td>Hong Kong</td>\n",
       "    </tr>\n",
       "    <tr>\n",
       "      <td>5</td>\n",
       "      <td>Macau</td>\n",
       "    </tr>\n",
       "    <tr>\n",
       "      <td>6</td>\n",
       "      <td>India</td>\n",
       "    </tr>\n",
       "    <tr>\n",
       "      <td>7</td>\n",
       "      <td>Kazakhstan</td>\n",
       "    </tr>\n",
       "    <tr>\n",
       "      <td>8</td>\n",
       "      <td>Saudi Arabia</td>\n",
       "    </tr>\n",
       "    <tr>\n",
       "      <td>9</td>\n",
       "      <td>Iran</td>\n",
       "    </tr>\n",
       "  </tbody>\n",
       "</table>\n",
       "</div>"
      ],
      "text/plain": [
       "           Country\n",
       "0           Russia\n",
       "1  European Russia\n",
       "2             None\n",
       "3            China\n",
       "4        Hong Kong\n",
       "5            Macau\n",
       "6            India\n",
       "7       Kazakhstan\n",
       "8     Saudi Arabia\n",
       "9             Iran"
      ]
     },
     "execution_count": 14,
     "metadata": {},
     "output_type": "execute_result"
    }
   ],
   "source": [
    "# Importing pandas\n",
    "import pandas as pd\n",
    "df = pd.DataFrame()\n",
    "\n",
    "# put complete list into DataFrame\n",
    "df['Country'] = country\n",
    "df.head(10)"
   ]
  }
 ],
 "metadata": {
  "kernelspec": {
   "display_name": "Python 3",
   "language": "python",
   "name": "python3"
  },
  "language_info": {
   "codemirror_mode": {
    "name": "ipython",
    "version": 3
   },
   "file_extension": ".py",
   "mimetype": "text/x-python",
   "name": "python",
   "nbconvert_exporter": "python",
   "pygments_lexer": "ipython3",
   "version": "3.7.4"
  }
 },
 "nbformat": 4,
 "nbformat_minor": 2
}
